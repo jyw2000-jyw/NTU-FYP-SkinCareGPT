{
 "cells": [
  {
   "cell_type": "code",
   "execution_count": 1,
   "id": "7bcfa902-c148-4ada-bcb6-1bdbf0953625",
   "metadata": {},
   "outputs": [],
   "source": [
    "from transformers import AutoTokenizer, AutoModel"
   ]
  },
  {
   "cell_type": "code",
   "execution_count": 16,
   "id": "59d0fd7a-8949-483e-a777-7f8d2537afe0",
   "metadata": {
    "scrolled": true
   },
   "outputs": [
    {
     "name": "stdout",
     "output_type": "stream",
     "text": [
      "Looking in indexes: https://mirrors.ustc.edu.cn/pypi/web/simple\n",
      "Requirement already satisfied: transformers==4.30.2 in d:\\tools\\conda\\envs\\glm\\lib\\site-packages (4.30.2)\n",
      "Requirement already satisfied: filelock in d:\\tools\\conda\\envs\\glm\\lib\\site-packages (from transformers==4.30.2) (3.9.0)\n",
      "Requirement already satisfied: huggingface-hub<1.0,>=0.14.1 in d:\\tools\\conda\\envs\\glm\\lib\\site-packages (from transformers==4.30.2) (0.20.2)\n",
      "Requirement already satisfied: numpy>=1.17 in d:\\tools\\conda\\envs\\glm\\lib\\site-packages (from transformers==4.30.2) (1.24.1)\n",
      "Requirement already satisfied: packaging>=20.0 in d:\\tools\\conda\\envs\\glm\\lib\\site-packages (from transformers==4.30.2) (23.2)\n",
      "Requirement already satisfied: pyyaml>=5.1 in d:\\tools\\conda\\envs\\glm\\lib\\site-packages (from transformers==4.30.2) (6.0.1)\n",
      "Requirement already satisfied: regex!=2019.12.17 in d:\\tools\\conda\\envs\\glm\\lib\\site-packages (from transformers==4.30.2) (2023.12.25)\n",
      "Requirement already satisfied: requests in d:\\tools\\conda\\envs\\glm\\lib\\site-packages (from transformers==4.30.2) (2.31.0)\n",
      "Requirement already satisfied: tokenizers!=0.11.3,<0.14,>=0.11.1 in d:\\tools\\conda\\envs\\glm\\lib\\site-packages (from transformers==4.30.2) (0.13.3)\n",
      "Requirement already satisfied: safetensors>=0.3.1 in d:\\tools\\conda\\envs\\glm\\lib\\site-packages (from transformers==4.30.2) (0.4.1)\n",
      "Requirement already satisfied: tqdm>=4.27 in d:\\tools\\conda\\envs\\glm\\lib\\site-packages (from transformers==4.30.2) (4.66.1)\n",
      "Requirement already satisfied: fsspec>=2023.5.0 in d:\\tools\\conda\\envs\\glm\\lib\\site-packages (from huggingface-hub<1.0,>=0.14.1->transformers==4.30.2) (2023.12.2)\n",
      "Requirement already satisfied: typing-extensions>=3.7.4.3 in d:\\tools\\conda\\envs\\glm\\lib\\site-packages (from huggingface-hub<1.0,>=0.14.1->transformers==4.30.2) (4.9.0)\n",
      "Requirement already satisfied: colorama in d:\\tools\\conda\\envs\\glm\\lib\\site-packages (from tqdm>=4.27->transformers==4.30.2) (0.4.6)\n",
      "Requirement already satisfied: charset-normalizer<4,>=2 in d:\\tools\\conda\\envs\\glm\\lib\\site-packages (from requests->transformers==4.30.2) (2.1.1)\n",
      "Requirement already satisfied: idna<4,>=2.5 in d:\\tools\\conda\\envs\\glm\\lib\\site-packages (from requests->transformers==4.30.2) (3.4)\n",
      "Requirement already satisfied: urllib3<3,>=1.21.1 in d:\\tools\\conda\\envs\\glm\\lib\\site-packages (from requests->transformers==4.30.2) (2.1.0)\n",
      "Requirement already satisfied: certifi>=2017.4.17 in d:\\tools\\conda\\envs\\glm\\lib\\site-packages (from requests->transformers==4.30.2) (2022.12.7)\n",
      "Note: you may need to restart the kernel to use updated packages.\n"
     ]
    }
   ],
   "source": [
    "pip install transformers==4.30.2"
   ]
  },
  {
   "cell_type": "code",
   "execution_count": 2,
   "id": "3a36a7a8-94d7-4c7d-ad52-8a4072508a2e",
   "metadata": {},
   "outputs": [
    {
     "name": "stdout",
     "output_type": "stream",
     "text": [
      "4.30.2\n"
     ]
    }
   ],
   "source": [
    "import transformers\n",
    "print(transformers.__version__)"
   ]
  },
  {
   "cell_type": "code",
   "execution_count": 5,
   "id": "3eda46c1-e80f-4c59-bd0e-4aa917be4b10",
   "metadata": {
    "scrolled": true
   },
   "outputs": [],
   "source": [
    "tokenizer = AutoTokenizer.from_pretrained(r\"D:\\1-PythonProjects\\ChatGLM3\\chatglm3-6b\", trust_remote_code=True)"
   ]
  },
  {
   "cell_type": "code",
   "execution_count": 7,
   "id": "f1e0776d-5d4a-4d32-8116-adeda32866dc",
   "metadata": {},
   "outputs": [
    {
     "data": {
      "application/vnd.jupyter.widget-view+json": {
       "model_id": "ff8a315263f04a149abe4fb50d033023",
       "version_major": 2,
       "version_minor": 0
      },
      "text/plain": [
       "Loading checkpoint shards:   0%|          | 0/7 [00:00<?, ?it/s]"
      ]
     },
     "metadata": {},
     "output_type": "display_data"
    },
    {
     "name": "stderr",
     "output_type": "stream",
     "text": [
      "Symbol cudaLaunchKernel not found in C:\\Program Files (x86)\\NVIDIA Corporation\\PhysX\\Common\\cudart64_65.dll\n"
     ]
    }
   ],
   "source": [
    "model = AutoModel.from_pretrained(r\"D:\\1-PythonProjects\\ChatGLM3\\chatglm3-6b\", trust_remote_code=True).quantize(8).cuda()"
   ]
  },
  {
   "cell_type": "code",
   "execution_count": 8,
   "id": "d345c4a4-9dd9-47e3-94ba-9e613494b9d6",
   "metadata": {},
   "outputs": [],
   "source": [
    "model = model.eval()"
   ]
  },
  {
   "cell_type": "code",
   "execution_count": 9,
   "id": "1945246c-3c8a-40bb-99a7-d4ad8d4db6f9",
   "metadata": {},
   "outputs": [],
   "source": [
    "response, history = model.chat(tokenizer, \"你好\", history=[])"
   ]
  },
  {
   "cell_type": "code",
   "execution_count": 10,
   "id": "2eef54a1-8aef-4c05-8ada-ac77951c872a",
   "metadata": {},
   "outputs": [
    {
     "name": "stdout",
     "output_type": "stream",
     "text": [
      "你好👋！我是人工智能助手 ChatGLM3-6B，很高兴见到你，欢迎问我任何问题。\n"
     ]
    }
   ],
   "source": [
    "print(response)"
   ]
  },
  {
   "cell_type": "code",
   "execution_count": 11,
   "id": "1a671136-0847-4e68-b3e5-b1929047af45",
   "metadata": {},
   "outputs": [
    {
     "name": "stdout",
     "output_type": "stream",
     "text": [
      "[{'role': 'user', 'content': '你好'}, {'role': 'assistant', 'metadata': '', 'content': '你好👋！我是人工智能助手 ChatGLM3-6B，很高兴见到你，欢迎问我任何问题。'}]\n"
     ]
    }
   ],
   "source": [
    "print(history)"
   ]
  },
  {
   "cell_type": "code",
   "execution_count": 12,
   "id": "267fdc79-0fef-4156-a9b5-9412fd187f57",
   "metadata": {},
   "outputs": [
    {
     "name": "stdout",
     "output_type": "stream",
     "text": [
      "天空是蓝色的，这是因为大气层中的气体吸收了地球表面发射的长波红光。在日出或日落时，太阳光直射到地球上方的空气层，长波红光会穿过大气层，到达我们眼睛。由于长波红光波长较长，其穿过大气层的路径较短，因此当光线到达我们眼睛时，波长较短的光（蓝光）被散射得更多，所以我们看到的天空是蓝色的。\n",
      "\n",
      "这种现象也可以解释为：空气中的气体分子和悬浮颗粒会散射光线，而蓝光的波长较短，更容易被散射。因此，当太阳光穿过大气层时，蓝光被散射得更多，我们看到的的天空就是蓝色的。\n"
     ]
    }
   ],
   "source": [
    "response, history = model.chat(tokenizer, \"你能告诉我为什么天空是蓝色的吗？\", history=[])\n",
    "print(response)"
   ]
  },
  {
   "cell_type": "code",
   "execution_count": 13,
   "id": "e627f3e6-051c-4e45-a916-374ee1fb75c3",
   "metadata": {},
   "outputs": [
    {
     "name": "stdout",
     "output_type": "stream",
     "text": [
      "[{'role': 'user', 'content': '你能告诉我为什么天空是蓝色的吗？'}, {'role': 'assistant', 'metadata': '', 'content': '天空是蓝色的，这是因为大气层中的气体吸收了地球表面发射的长波红光。在日出或日落时，太阳光直射到地球上方的空气层，长波红光会穿过大气层，到达我们眼睛。由于长波红光波长较长，其穿过大气层的路径较短，因此当光线到达我们眼睛时，波长较短的光（蓝光）被散射得更多，所以我们看到的天空是蓝色的。\\n\\n这种现象也可以解释为：空气中的气体分子和悬浮颗粒会散射光线，而蓝光的波长较短，更容易被散射。因此，当太阳光穿过大气层时，蓝光被散射得更多，我们看到的的天空就是蓝色的。'}]\n"
     ]
    }
   ],
   "source": [
    "print(history)"
   ]
  },
  {
   "cell_type": "code",
   "execution_count": 14,
   "id": "dfb10cfe-2d00-4ea8-b8ea-246a21f9c7b3",
   "metadata": {},
   "outputs": [
    {
     "name": "stdout",
     "output_type": "stream",
     "text": [
      "油性皮肤通常需要更加清洁和保湿的护肤策略,具体可以参考下述建议:\n",
      "1. 选择适合油性皮肤的洁面产品:油性皮肤需要使用清洁力强的洁面产品,能够有效去除油脂和污垢,建议选择含有水杨酸或果酸成分的洁面产品,这些成分可以帮助去除死皮细胞和深层污垢。\n",
      "2. 选择轻盈的保湿产品:油性皮肤需要轻盈的保湿产品,以防止皮肤过度油腻。建议选择含有轻质保湿成分如甘油、尿囊素等的保湿霜或乳液。\n",
      "3. 注意饮食和生活习惯:饮食和生活习惯对皮肤健康也有很大影响。建议多吃含有维生素A、C和E、以及锌和硒的食物,如菠菜、番茄、南瓜、胡萝卜、豆类等,同时保持充足的睡眠和适度的运动,以帮助保持皮肤健康。\n"
     ]
    }
   ],
   "source": [
    "response, history = model.chat(tokenizer, \"我是油性皮肤，请给我3点护肤建议\", history=[])\n",
    "print(response)"
   ]
  }
 ],
 "metadata": {
  "kernelspec": {
   "display_name": "Python 3 (ipykernel)",
   "language": "python",
   "name": "python3"
  },
  "language_info": {
   "codemirror_mode": {
    "name": "ipython",
    "version": 3
   },
   "file_extension": ".py",
   "mimetype": "text/x-python",
   "name": "python",
   "nbconvert_exporter": "python",
   "pygments_lexer": "ipython3",
   "version": "3.10.13"
  }
 },
 "nbformat": 4,
 "nbformat_minor": 5
}
